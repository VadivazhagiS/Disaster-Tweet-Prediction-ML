{
 "cells": [
  {
   "cell_type": "code",
   "execution_count": 1,
   "id": "fbe2f4b0",
   "metadata": {
    "execution": {
     "iopub.execute_input": "2023-07-30T09:00:05.519794Z",
     "iopub.status.busy": "2023-07-30T09:00:05.518849Z",
     "iopub.status.idle": "2023-07-30T09:00:08.250915Z",
     "shell.execute_reply": "2023-07-30T09:00:08.249447Z"
    },
    "papermill": {
     "duration": 2.744886,
     "end_time": "2023-07-30T09:00:08.254370",
     "exception": false,
     "start_time": "2023-07-30T09:00:05.509484",
     "status": "completed"
    },
    "tags": []
   },
   "outputs": [],
   "source": [
    "import pandas as pd \n",
    "import numpy as np\n",
    "import matplotlib.pyplot as plt\n",
    "import seaborn as sns\n",
    "import nltk"
   ]
  },
  {
   "cell_type": "code",
   "execution_count": 2,
   "id": "99a50773",
   "metadata": {
    "execution": {
     "iopub.execute_input": "2023-07-30T09:00:08.269881Z",
     "iopub.status.busy": "2023-07-30T09:00:08.269411Z",
     "iopub.status.idle": "2023-07-30T09:00:08.363916Z",
     "shell.execute_reply": "2023-07-30T09:00:08.362681Z"
    },
    "papermill": {
     "duration": 0.106164,
     "end_time": "2023-07-30T09:00:08.367381",
     "exception": false,
     "start_time": "2023-07-30T09:00:08.261217",
     "status": "completed"
    },
    "tags": []
   },
   "outputs": [
    {
     "data": {
      "text/html": [
       "<div>\n",
       "<style scoped>\n",
       "    .dataframe tbody tr th:only-of-type {\n",
       "        vertical-align: middle;\n",
       "    }\n",
       "\n",
       "    .dataframe tbody tr th {\n",
       "        vertical-align: top;\n",
       "    }\n",
       "\n",
       "    .dataframe thead th {\n",
       "        text-align: right;\n",
       "    }\n",
       "</style>\n",
       "<table border=\"1\" class=\"dataframe\">\n",
       "  <thead>\n",
       "    <tr style=\"text-align: right;\">\n",
       "      <th></th>\n",
       "      <th>id</th>\n",
       "      <th>keyword</th>\n",
       "      <th>location</th>\n",
       "      <th>text</th>\n",
       "      <th>target</th>\n",
       "    </tr>\n",
       "  </thead>\n",
       "  <tbody>\n",
       "    <tr>\n",
       "      <th>0</th>\n",
       "      <td>1</td>\n",
       "      <td>NaN</td>\n",
       "      <td>NaN</td>\n",
       "      <td>Our Deeds are the Reason of this #earthquake M...</td>\n",
       "      <td>1</td>\n",
       "    </tr>\n",
       "    <tr>\n",
       "      <th>1</th>\n",
       "      <td>4</td>\n",
       "      <td>NaN</td>\n",
       "      <td>NaN</td>\n",
       "      <td>Forest fire near La Ronge Sask. Canada</td>\n",
       "      <td>1</td>\n",
       "    </tr>\n",
       "    <tr>\n",
       "      <th>2</th>\n",
       "      <td>5</td>\n",
       "      <td>NaN</td>\n",
       "      <td>NaN</td>\n",
       "      <td>All residents asked to 'shelter in place' are ...</td>\n",
       "      <td>1</td>\n",
       "    </tr>\n",
       "    <tr>\n",
       "      <th>3</th>\n",
       "      <td>6</td>\n",
       "      <td>NaN</td>\n",
       "      <td>NaN</td>\n",
       "      <td>13,000 people receive #wildfires evacuation or...</td>\n",
       "      <td>1</td>\n",
       "    </tr>\n",
       "    <tr>\n",
       "      <th>4</th>\n",
       "      <td>7</td>\n",
       "      <td>NaN</td>\n",
       "      <td>NaN</td>\n",
       "      <td>Just got sent this photo from Ruby #Alaska as ...</td>\n",
       "      <td>1</td>\n",
       "    </tr>\n",
       "  </tbody>\n",
       "</table>\n",
       "</div>"
      ],
      "text/plain": [
       "   id keyword location                                               text  \\\n",
       "0   1     NaN      NaN  Our Deeds are the Reason of this #earthquake M...   \n",
       "1   4     NaN      NaN             Forest fire near La Ronge Sask. Canada   \n",
       "2   5     NaN      NaN  All residents asked to 'shelter in place' are ...   \n",
       "3   6     NaN      NaN  13,000 people receive #wildfires evacuation or...   \n",
       "4   7     NaN      NaN  Just got sent this photo from Ruby #Alaska as ...   \n",
       "\n",
       "   target  \n",
       "0       1  \n",
       "1       1  \n",
       "2       1  \n",
       "3       1  \n",
       "4       1  "
      ]
     },
     "execution_count": 2,
     "metadata": {},
     "output_type": "execute_result"
    }
   ],
   "source": [
    "df = pd.read_csv('/kaggle/input/nlp-getting-started/train.csv')\n",
    "df.head(5)"
   ]
  },
  {
   "cell_type": "code",
   "execution_count": 3,
   "id": "4969d4c1",
   "metadata": {
    "execution": {
     "iopub.execute_input": "2023-07-30T09:00:08.383833Z",
     "iopub.status.busy": "2023-07-30T09:00:08.382580Z",
     "iopub.status.idle": "2023-07-30T09:00:08.389780Z",
     "shell.execute_reply": "2023-07-30T09:00:08.388908Z"
    },
    "papermill": {
     "duration": 0.018203,
     "end_time": "2023-07-30T09:00:08.392337",
     "exception": false,
     "start_time": "2023-07-30T09:00:08.374134",
     "status": "completed"
    },
    "tags": []
   },
   "outputs": [
    {
     "data": {
      "text/plain": [
       "'Our Deeds are the Reason of this #earthquake May ALLAH Forgive us all'"
      ]
     },
     "execution_count": 3,
     "metadata": {},
     "output_type": "execute_result"
    }
   ],
   "source": [
    "df['text'][0]"
   ]
  },
  {
   "cell_type": "code",
   "execution_count": 4,
   "id": "da58416a",
   "metadata": {
    "execution": {
     "iopub.execute_input": "2023-07-30T09:00:08.408302Z",
     "iopub.status.busy": "2023-07-30T09:00:08.407776Z",
     "iopub.status.idle": "2023-07-30T09:00:08.427715Z",
     "shell.execute_reply": "2023-07-30T09:00:08.426466Z"
    },
    "papermill": {
     "duration": 0.031789,
     "end_time": "2023-07-30T09:00:08.430917",
     "exception": false,
     "start_time": "2023-07-30T09:00:08.399128",
     "status": "completed"
    },
    "tags": []
   },
   "outputs": [],
   "source": [
    "# Separate the two classes\n",
    "df_target_0 = df[df['target'] == 0]\n",
    "df_target_1 = df[df['target'] == 1]\n",
    "\n",
    "# Find the number of samples in the minority class\n",
    "n_samples = min(len(df_target_0), len(df_target_1))\n",
    "\n",
    "# Randomly sample from the majority class to get the same number of samples as the minority class\n",
    "df_target_0 = df_target_0.sample(n=n_samples, random_state=0)\n",
    "df_target_1 = df_target_1.sample(n=n_samples, random_state=0)\n",
    "\n",
    "# Concatenate the two DataFrames to get the final balanced DataFrame\n",
    "df = pd.concat([df_target_0, df_target_1])\n",
    "df.reset_index(drop=True, inplace=True)"
   ]
  },
  {
   "cell_type": "code",
   "execution_count": 5,
   "id": "3a8649b4",
   "metadata": {
    "execution": {
     "iopub.execute_input": "2023-07-30T09:00:08.447780Z",
     "iopub.status.busy": "2023-07-30T09:00:08.446847Z",
     "iopub.status.idle": "2023-07-30T09:00:08.464645Z",
     "shell.execute_reply": "2023-07-30T09:00:08.463341Z"
    },
    "papermill": {
     "duration": 0.029572,
     "end_time": "2023-07-30T09:00:08.467656",
     "exception": false,
     "start_time": "2023-07-30T09:00:08.438084",
     "status": "completed"
    },
    "tags": []
   },
   "outputs": [
    {
     "data": {
      "text/html": [
       "<div>\n",
       "<style scoped>\n",
       "    .dataframe tbody tr th:only-of-type {\n",
       "        vertical-align: middle;\n",
       "    }\n",
       "\n",
       "    .dataframe tbody tr th {\n",
       "        vertical-align: top;\n",
       "    }\n",
       "\n",
       "    .dataframe thead th {\n",
       "        text-align: right;\n",
       "    }\n",
       "</style>\n",
       "<table border=\"1\" class=\"dataframe\">\n",
       "  <thead>\n",
       "    <tr style=\"text-align: right;\">\n",
       "      <th></th>\n",
       "      <th>id</th>\n",
       "      <th>keyword</th>\n",
       "      <th>location</th>\n",
       "      <th>text</th>\n",
       "      <th>target</th>\n",
       "    </tr>\n",
       "  </thead>\n",
       "  <tbody>\n",
       "    <tr>\n",
       "      <th>0</th>\n",
       "      <td>8520</td>\n",
       "      <td>screaming</td>\n",
       "      <td>All around the world</td>\n",
       "      <td>@ArianaGrande @justinbieber I'M SCREAMING OMG ...</td>\n",
       "      <td>0</td>\n",
       "    </tr>\n",
       "    <tr>\n",
       "      <th>1</th>\n",
       "      <td>9000</td>\n",
       "      <td>stretcher</td>\n",
       "      <td>Austin/Los Angeles</td>\n",
       "      <td>Stretcher brought out for Vampiro. Cut to comm...</td>\n",
       "      <td>0</td>\n",
       "    </tr>\n",
       "    <tr>\n",
       "      <th>2</th>\n",
       "      <td>9395</td>\n",
       "      <td>survivors</td>\n",
       "      <td>NaN</td>\n",
       "      <td>Dying with debt can be costly for survivors</td>\n",
       "      <td>0</td>\n",
       "    </tr>\n",
       "    <tr>\n",
       "      <th>3</th>\n",
       "      <td>1225</td>\n",
       "      <td>blizzard</td>\n",
       "      <td>NaN</td>\n",
       "      <td>What is the biggest regret you have in hearths...</td>\n",
       "      <td>0</td>\n",
       "    </tr>\n",
       "    <tr>\n",
       "      <th>4</th>\n",
       "      <td>2496</td>\n",
       "      <td>collided</td>\n",
       "      <td>See the barn of bleakness</td>\n",
       "      <td>OMG OMG OMG #JustinBieber and #HarryStyles hav...</td>\n",
       "      <td>0</td>\n",
       "    </tr>\n",
       "    <tr>\n",
       "      <th>...</th>\n",
       "      <td>...</td>\n",
       "      <td>...</td>\n",
       "      <td>...</td>\n",
       "      <td>...</td>\n",
       "      <td>...</td>\n",
       "    </tr>\n",
       "    <tr>\n",
       "      <th>6537</th>\n",
       "      <td>3125</td>\n",
       "      <td>debris</td>\n",
       "      <td>New York</td>\n",
       "      <td>Malaysian Officials Say Debris Found on Reunio...</td>\n",
       "      <td>1</td>\n",
       "    </tr>\n",
       "    <tr>\n",
       "      <th>6538</th>\n",
       "      <td>10866</td>\n",
       "      <td>NaN</td>\n",
       "      <td>NaN</td>\n",
       "      <td>Suicide bomber kills 15 in Saudi security site...</td>\n",
       "      <td>1</td>\n",
       "    </tr>\n",
       "    <tr>\n",
       "      <th>6539</th>\n",
       "      <td>5712</td>\n",
       "      <td>forest%20fire</td>\n",
       "      <td>PDX</td>\n",
       "      <td>BE CAREFUL anyone who lives west of Beaverton....</td>\n",
       "      <td>1</td>\n",
       "    </tr>\n",
       "    <tr>\n",
       "      <th>6540</th>\n",
       "      <td>8972</td>\n",
       "      <td>storm</td>\n",
       "      <td>Alberta</td>\n",
       "      <td>'Calgarians stunned by storm insurance compani...</td>\n",
       "      <td>1</td>\n",
       "    </tr>\n",
       "    <tr>\n",
       "      <th>6541</th>\n",
       "      <td>9238</td>\n",
       "      <td>suicide%20bombing</td>\n",
       "      <td>NaN</td>\n",
       "      <td>Remembering Mordechai Yehuda Friedman 24 of Ra...</td>\n",
       "      <td>1</td>\n",
       "    </tr>\n",
       "  </tbody>\n",
       "</table>\n",
       "<p>6542 rows × 5 columns</p>\n",
       "</div>"
      ],
      "text/plain": [
       "         id            keyword                   location  \\\n",
       "0      8520          screaming       All around the world   \n",
       "1      9000          stretcher         Austin/Los Angeles   \n",
       "2      9395          survivors                        NaN   \n",
       "3      1225           blizzard                        NaN   \n",
       "4      2496           collided  See the barn of bleakness   \n",
       "...     ...                ...                        ...   \n",
       "6537   3125             debris                   New York   \n",
       "6538  10866                NaN                        NaN   \n",
       "6539   5712      forest%20fire                        PDX   \n",
       "6540   8972              storm                    Alberta   \n",
       "6541   9238  suicide%20bombing                        NaN   \n",
       "\n",
       "                                                   text  target  \n",
       "0     @ArianaGrande @justinbieber I'M SCREAMING OMG ...       0  \n",
       "1     Stretcher brought out for Vampiro. Cut to comm...       0  \n",
       "2           Dying with debt can be costly for survivors       0  \n",
       "3     What is the biggest regret you have in hearths...       0  \n",
       "4     OMG OMG OMG #JustinBieber and #HarryStyles hav...       0  \n",
       "...                                                 ...     ...  \n",
       "6537  Malaysian Officials Say Debris Found on Reunio...       1  \n",
       "6538  Suicide bomber kills 15 in Saudi security site...       1  \n",
       "6539  BE CAREFUL anyone who lives west of Beaverton....       1  \n",
       "6540  'Calgarians stunned by storm insurance compani...       1  \n",
       "6541  Remembering Mordechai Yehuda Friedman 24 of Ra...       1  \n",
       "\n",
       "[6542 rows x 5 columns]"
      ]
     },
     "execution_count": 5,
     "metadata": {},
     "output_type": "execute_result"
    }
   ],
   "source": [
    "df"
   ]
  },
  {
   "cell_type": "code",
   "execution_count": 6,
   "id": "2ac25718",
   "metadata": {
    "execution": {
     "iopub.execute_input": "2023-07-30T09:00:08.484990Z",
     "iopub.status.busy": "2023-07-30T09:00:08.484438Z",
     "iopub.status.idle": "2023-07-30T09:00:08.675692Z",
     "shell.execute_reply": "2023-07-30T09:00:08.674287Z"
    },
    "papermill": {
     "duration": 0.203528,
     "end_time": "2023-07-30T09:00:08.679065",
     "exception": false,
     "start_time": "2023-07-30T09:00:08.475537",
     "status": "completed"
    },
    "tags": []
   },
   "outputs": [],
   "source": [
    "import re\n",
    "import nltk\n",
    "from nltk.stem import WordNetLemmatizer\n",
    "corpus = []\n",
    "for i in range(0, df.shape[0]):\n",
    "  review = re.sub('[^a-zA-Z]', ' ', df['text'][i])\n",
    "  review = review.lower()\n",
    "  review = review.split()\n",
    "  lemmatizer = WordNetLemmatizer()\n",
    "  review = ' '.join(review)\n",
    "  corpus.append(review)\n"
   ]
  },
  {
   "cell_type": "code",
   "execution_count": 7,
   "id": "e644b4aa",
   "metadata": {
    "execution": {
     "iopub.execute_input": "2023-07-30T09:00:08.698928Z",
     "iopub.status.busy": "2023-07-30T09:00:08.697910Z",
     "iopub.status.idle": "2023-07-30T09:00:09.008130Z",
     "shell.execute_reply": "2023-07-30T09:00:09.006806Z"
    },
    "papermill": {
     "duration": 0.322981,
     "end_time": "2023-07-30T09:00:09.011872",
     "exception": false,
     "start_time": "2023-07-30T09:00:08.688891",
     "status": "completed"
    },
    "tags": []
   },
   "outputs": [],
   "source": [
    "from sklearn.feature_extraction.text import CountVectorizer\n",
    "cv = CountVectorizer(max_features = 1500,stop_words='english')\n",
    "X = cv.fit_transform(corpus).toarray()\n",
    "y = df['target']"
   ]
  },
  {
   "cell_type": "code",
   "execution_count": 8,
   "id": "9c706321",
   "metadata": {
    "execution": {
     "iopub.execute_input": "2023-07-30T09:00:09.028941Z",
     "iopub.status.busy": "2023-07-30T09:00:09.028055Z",
     "iopub.status.idle": "2023-07-30T09:00:09.036495Z",
     "shell.execute_reply": "2023-07-30T09:00:09.034807Z"
    },
    "papermill": {
     "duration": 0.0207,
     "end_time": "2023-07-30T09:00:09.039715",
     "exception": false,
     "start_time": "2023-07-30T09:00:09.019015",
     "status": "completed"
    },
    "tags": []
   },
   "outputs": [
    {
     "data": {
      "text/plain": [
       "1500"
      ]
     },
     "execution_count": 8,
     "metadata": {},
     "output_type": "execute_result"
    }
   ],
   "source": [
    "len(X[0])"
   ]
  },
  {
   "cell_type": "code",
   "execution_count": 9,
   "id": "414077b2",
   "metadata": {
    "execution": {
     "iopub.execute_input": "2023-07-30T09:00:09.058393Z",
     "iopub.status.busy": "2023-07-30T09:00:09.057524Z",
     "iopub.status.idle": "2023-07-30T09:00:09.115900Z",
     "shell.execute_reply": "2023-07-30T09:00:09.114563Z"
    },
    "papermill": {
     "duration": 0.071702,
     "end_time": "2023-07-30T09:00:09.119198",
     "exception": false,
     "start_time": "2023-07-30T09:00:09.047496",
     "status": "completed"
    },
    "tags": []
   },
   "outputs": [],
   "source": [
    "from sklearn.model_selection import train_test_split\n",
    "X_train, X_test, y_train, y_test = train_test_split(X, y, test_size = 0.2, random_state = 0)"
   ]
  },
  {
   "cell_type": "code",
   "execution_count": 10,
   "id": "2c2bd337",
   "metadata": {
    "execution": {
     "iopub.execute_input": "2023-07-30T09:00:09.136496Z",
     "iopub.status.busy": "2023-07-30T09:00:09.135990Z",
     "iopub.status.idle": "2023-07-30T09:00:09.144451Z",
     "shell.execute_reply": "2023-07-30T09:00:09.143230Z"
    },
    "papermill": {
     "duration": 0.021222,
     "end_time": "2023-07-30T09:00:09.147763",
     "exception": false,
     "start_time": "2023-07-30T09:00:09.126541",
     "status": "completed"
    },
    "tags": []
   },
   "outputs": [
    {
     "data": {
      "text/plain": [
       "array([[0, 0, 0, ..., 0, 0, 0],\n",
       "       [0, 0, 0, ..., 0, 0, 0],\n",
       "       [0, 0, 0, ..., 0, 0, 1],\n",
       "       ...,\n",
       "       [0, 0, 0, ..., 0, 0, 0],\n",
       "       [0, 0, 0, ..., 0, 0, 0],\n",
       "       [0, 0, 0, ..., 0, 0, 0]])"
      ]
     },
     "execution_count": 10,
     "metadata": {},
     "output_type": "execute_result"
    }
   ],
   "source": [
    "X_train"
   ]
  },
  {
   "cell_type": "markdown",
   "id": "62c3beed",
   "metadata": {
    "papermill": {
     "duration": 0.0072,
     "end_time": "2023-07-30T09:00:09.162789",
     "exception": false,
     "start_time": "2023-07-30T09:00:09.155589",
     "status": "completed"
    },
    "tags": []
   },
   "source": [
    "Model selection"
   ]
  },
  {
   "cell_type": "code",
   "execution_count": 11,
   "id": "87644506",
   "metadata": {
    "execution": {
     "iopub.execute_input": "2023-07-30T09:00:09.181168Z",
     "iopub.status.busy": "2023-07-30T09:00:09.180153Z",
     "iopub.status.idle": "2023-07-30T09:00:57.651551Z",
     "shell.execute_reply": "2023-07-30T09:00:57.650075Z"
    },
    "papermill": {
     "duration": 48.485306,
     "end_time": "2023-07-30T09:00:57.655935",
     "exception": false,
     "start_time": "2023-07-30T09:00:09.170629",
     "status": "completed"
    },
    "tags": []
   },
   "outputs": [
    {
     "name": "stdout",
     "output_type": "stream",
     "text": [
      "GaussianNB 0.7188693659281895\n",
      "SVC 0.7807486631016043\n",
      "CART 0.7295645530939648\n",
      "Maximum Entropy 0.7616501145912911\n"
     ]
    }
   ],
   "source": [
    "from sklearn.naive_bayes import GaussianNB\n",
    "from sklearn.metrics import confusion_matrix, accuracy_score\n",
    "from sklearn.svm import SVC\n",
    "from sklearn.tree import DecisionTreeClassifier\n",
    "from sklearn.linear_model import LogisticRegression\n",
    "\n",
    "svc = SVC()\n",
    "gaussian = GaussianNB()\n",
    "cart_model = DecisionTreeClassifier(criterion='gini', random_state=0)\n",
    "maxent_model = LogisticRegression(multi_class='multinomial', solver='lbfgs', random_state=0,max_iter=1000)\n",
    "\n",
    "model_list = {'GaussianNB':gaussian,'SVC':svc,'CART': cart_model , 'Maximum Entropy': maxent_model}\n",
    "\n",
    "\n",
    "for model_name,model in model_list.items():\n",
    "    model.fit(X_train, y_train)\n",
    "    y_pred = model.predict(X_test)\n",
    "    print(model_name,accuracy_score(y_test, y_pred))"
   ]
  },
  {
   "cell_type": "code",
   "execution_count": 12,
   "id": "f547a78b",
   "metadata": {
    "execution": {
     "iopub.execute_input": "2023-07-30T09:00:57.689209Z",
     "iopub.status.busy": "2023-07-30T09:00:57.688503Z",
     "iopub.status.idle": "2023-07-30T09:01:29.241246Z",
     "shell.execute_reply": "2023-07-30T09:01:29.239700Z"
    },
    "papermill": {
     "duration": 31.581048,
     "end_time": "2023-07-30T09:01:29.251987",
     "exception": false,
     "start_time": "2023-07-30T09:00:57.670939",
     "status": "completed"
    },
    "tags": []
   },
   "outputs": [
    {
     "name": "stdout",
     "output_type": "stream",
     "text": [
      "0.7807486631016043\n"
     ]
    }
   ],
   "source": [
    "final_model = SVC(kernel ='rbf',C=1,gamma=0.1)\n",
    "final_model.fit(X_train,y_train)\n",
    "y_pred = final_model.predict(X_test)\n",
    "print(accuracy_score(y_test, y_pred))"
   ]
  },
  {
   "cell_type": "code",
   "execution_count": 13,
   "id": "24a65830",
   "metadata": {
    "execution": {
     "iopub.execute_input": "2023-07-30T09:01:29.270470Z",
     "iopub.status.busy": "2023-07-30T09:01:29.269994Z",
     "iopub.status.idle": "2023-07-30T09:01:49.125831Z",
     "shell.execute_reply": "2023-07-30T09:01:49.124301Z"
    },
    "papermill": {
     "duration": 19.869175,
     "end_time": "2023-07-30T09:01:49.129021",
     "exception": false,
     "start_time": "2023-07-30T09:01:29.259846",
     "status": "completed"
    },
    "tags": []
   },
   "outputs": [],
   "source": [
    "df_test = pd.read_csv('/kaggle/input/nlp-getting-started/test.csv')\n",
    "corpus_test = []\n",
    "\n",
    "for i in range(0, df_test.shape[0]):\n",
    "  review = re.sub('[^a-zA-Z]', ' ', df_test['text'][i])\n",
    "  review = review.lower()\n",
    "  review = review.split()\n",
    "  lemmatizer = WordNetLemmatizer()\n",
    "  review = ' '.join(review)\n",
    "  corpus_test.append(review)\n",
    "\n",
    "X_test_real = cv.transform(corpus_test).toarray()\n",
    "\n",
    "\n",
    "new_predict = final_model.predict(X_test_real)"
   ]
  },
  {
   "cell_type": "code",
   "execution_count": 14,
   "id": "e42c8629",
   "metadata": {
    "execution": {
     "iopub.execute_input": "2023-07-30T09:01:49.147415Z",
     "iopub.status.busy": "2023-07-30T09:01:49.146899Z",
     "iopub.status.idle": "2023-07-30T09:01:49.167594Z",
     "shell.execute_reply": "2023-07-30T09:01:49.166518Z"
    },
    "papermill": {
     "duration": 0.033401,
     "end_time": "2023-07-30T09:01:49.170557",
     "exception": false,
     "start_time": "2023-07-30T09:01:49.137156",
     "status": "completed"
    },
    "tags": []
   },
   "outputs": [],
   "source": [
    "my_submission = pd.DataFrame({'id': df_test['id'], 'target': new_predict.reshape(-1)})\n",
    "my_submission.to_csv('submission.csv', index=False)"
   ]
  },
  {
   "cell_type": "code",
   "execution_count": null,
   "id": "ee6e77a2",
   "metadata": {
    "papermill": {
     "duration": 0.007635,
     "end_time": "2023-07-30T09:01:49.186188",
     "exception": false,
     "start_time": "2023-07-30T09:01:49.178553",
     "status": "completed"
    },
    "tags": []
   },
   "outputs": [],
   "source": []
  },
  {
   "cell_type": "code",
   "execution_count": null,
   "id": "5c07a019",
   "metadata": {
    "papermill": {
     "duration": 0.007413,
     "end_time": "2023-07-30T09:01:49.201478",
     "exception": false,
     "start_time": "2023-07-30T09:01:49.194065",
     "status": "completed"
    },
    "tags": []
   },
   "outputs": [],
   "source": []
  }
 ],
 "metadata": {
  "kernelspec": {
   "display_name": "Python 3",
   "language": "python",
   "name": "python3"
  },
  "language_info": {
   "codemirror_mode": {
    "name": "ipython",
    "version": 3
   },
   "file_extension": ".py",
   "mimetype": "text/x-python",
   "name": "python",
   "nbconvert_exporter": "python",
   "pygments_lexer": "ipython3",
   "version": "3.10.10"
  },
  "papermill": {
   "default_parameters": {},
   "duration": 120.329406,
   "end_time": "2023-07-30T09:01:50.334926",
   "environment_variables": {},
   "exception": null,
   "input_path": "__notebook__.ipynb",
   "output_path": "__notebook__.ipynb",
   "parameters": {},
   "start_time": "2023-07-30T08:59:50.005520",
   "version": "2.4.0"
  }
 },
 "nbformat": 4,
 "nbformat_minor": 5
}
